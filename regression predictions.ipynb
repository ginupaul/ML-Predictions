{
 "cells": [
  {
   "cell_type": "code",
   "execution_count": null,
   "metadata": {},
   "outputs": [],
   "source": [
    "###Importing libraries\n",
    "\n",
    "\n",
    "import numpy as np\n",
    "import pandas as pd\n",
    "import matplotlib.pyplot as plt\n",
    "%matplotlib inline\n"
   ]
  },
  {
   "cell_type": "code",
   "execution_count": null,
   "metadata": {},
   "outputs": [],
   "source": [
    "###getting the data\n",
    "import os\n",
    "path = os.getcwd() + '\\data\\Chennai_house_univariate_train.csv'\n",
    "raw_data = pd.read_csv(path)\n",
    "raw_data.head()"
   ]
  },
  {
   "cell_type": "code",
   "execution_count": 3,
   "metadata": {},
   "outputs": [
    {
     "data": {
      "text/html": [
       "<div>\n",
       "<style scoped>\n",
       "    .dataframe tbody tr th:only-of-type {\n",
       "        vertical-align: middle;\n",
       "    }\n",
       "\n",
       "    .dataframe tbody tr th {\n",
       "        vertical-align: top;\n",
       "    }\n",
       "\n",
       "    .dataframe thead th {\n",
       "        text-align: right;\n",
       "    }\n",
       "</style>\n",
       "<table border=\"1\" class=\"dataframe\">\n",
       "  <thead>\n",
       "    <tr style=\"text-align: right;\">\n",
       "      <th></th>\n",
       "      <th>Size</th>\n",
       "      <th>Price</th>\n",
       "    </tr>\n",
       "  </thead>\n",
       "  <tbody>\n",
       "    <tr>\n",
       "      <th>count</th>\n",
       "      <td>97.000000</td>\n",
       "      <td>97.000000</td>\n",
       "    </tr>\n",
       "    <tr>\n",
       "      <th>mean</th>\n",
       "      <td>815.980000</td>\n",
       "      <td>19.908247</td>\n",
       "    </tr>\n",
       "    <tr>\n",
       "      <th>std</th>\n",
       "      <td>386.988353</td>\n",
       "      <td>17.767208</td>\n",
       "    </tr>\n",
       "    <tr>\n",
       "      <th>min</th>\n",
       "      <td>502.690000</td>\n",
       "      <td>6.300000</td>\n",
       "    </tr>\n",
       "    <tr>\n",
       "      <th>25%</th>\n",
       "      <td>570.770000</td>\n",
       "      <td>9.300000</td>\n",
       "    </tr>\n",
       "    <tr>\n",
       "      <th>50%</th>\n",
       "      <td>658.940000</td>\n",
       "      <td>12.700000</td>\n",
       "    </tr>\n",
       "    <tr>\n",
       "      <th>75%</th>\n",
       "      <td>857.810000</td>\n",
       "      <td>20.900000</td>\n",
       "    </tr>\n",
       "    <tr>\n",
       "      <th>max</th>\n",
       "      <td>2220.300000</td>\n",
       "      <td>86.400000</td>\n",
       "    </tr>\n",
       "  </tbody>\n",
       "</table>\n",
       "</div>"
      ],
      "text/plain": [
       "              Size      Price\n",
       "count    97.000000  97.000000\n",
       "mean    815.980000  19.908247\n",
       "std     386.988353  17.767208\n",
       "min     502.690000   6.300000\n",
       "25%     570.770000   9.300000\n",
       "50%     658.940000  12.700000\n",
       "75%     857.810000  20.900000\n",
       "max    2220.300000  86.400000"
      ]
     },
     "execution_count": 3,
     "metadata": {},
     "output_type": "execute_result"
    }
   ],
   "source": [
    "raw_data.describe()"
   ]
  },
  {
   "cell_type": "code",
   "execution_count": 4,
   "metadata": {},
   "outputs": [
    {
     "data": {
      "text/html": [
       "<div>\n",
       "<style scoped>\n",
       "    .dataframe tbody tr th:only-of-type {\n",
       "        vertical-align: middle;\n",
       "    }\n",
       "\n",
       "    .dataframe tbody tr th {\n",
       "        vertical-align: top;\n",
       "    }\n",
       "\n",
       "    .dataframe thead th {\n",
       "        text-align: right;\n",
       "    }\n",
       "</style>\n",
       "<table border=\"1\" class=\"dataframe\">\n",
       "  <thead>\n",
       "    <tr style=\"text-align: right;\">\n",
       "      <th></th>\n",
       "      <th>Size</th>\n",
       "      <th>Price</th>\n",
       "    </tr>\n",
       "  </thead>\n",
       "  <tbody>\n",
       "    <tr>\n",
       "      <th>0</th>\n",
       "      <td>-0.182399</td>\n",
       "      <td>-0.169891</td>\n",
       "    </tr>\n",
       "    <tr>\n",
       "      <th>1</th>\n",
       "      <td>-0.181840</td>\n",
       "      <td>-0.169891</td>\n",
       "    </tr>\n",
       "    <tr>\n",
       "      <th>2</th>\n",
       "      <td>-0.180786</td>\n",
       "      <td>-0.167394</td>\n",
       "    </tr>\n",
       "    <tr>\n",
       "      <th>3</th>\n",
       "      <td>-0.180507</td>\n",
       "      <td>-0.167394</td>\n",
       "    </tr>\n",
       "    <tr>\n",
       "      <th>4</th>\n",
       "      <td>-0.179878</td>\n",
       "      <td>-0.166145</td>\n",
       "    </tr>\n",
       "  </tbody>\n",
       "</table>\n",
       "</div>"
      ],
      "text/plain": [
       "       Size     Price\n",
       "0 -0.182399 -0.169891\n",
       "1 -0.181840 -0.169891\n",
       "2 -0.180786 -0.167394\n",
       "3 -0.180507 -0.167394\n",
       "4 -0.179878 -0.166145"
      ]
     },
     "execution_count": 4,
     "metadata": {},
     "output_type": "execute_result"
    }
   ],
   "source": [
    "###Mean Normalization\n",
    "data = (raw_data-raw_data.mean())/(raw_data.max()-raw_data.min())\n",
    "data.head()"
   ]
  },
  {
   "cell_type": "code",
   "execution_count": 5,
   "metadata": {},
   "outputs": [
    {
     "data": {
      "text/plain": [
       "<matplotlib.axes._subplots.AxesSubplot at 0x8c1bc50>"
      ]
     },
     "execution_count": 5,
     "metadata": {},
     "output_type": "execute_result"
    },
    {
     "data": {
      "image/png": "[encoded data removed]",
      "text/plain": [
       "<Figure size 720x360 with 1 Axes>"
      ]
     },
     "metadata": {},
     "output_type": "display_data"
    }
   ],
   "source": [
    "###Plotting the data\n",
    "data.plot(kind = 'scatter', x='Size', y='Price', figsize = (10,5))"
   ]
  },
  {
   "cell_type": "code",
   "execution_count": 6,
   "metadata": {},
   "outputs": [
    {
     "data": {
      "text/plain": [
       "(97, 2)"
      ]
     },
     "execution_count": 6,
     "metadata": {},
     "output_type": "execute_result"
    }
   ],
   "source": [
    "data.shape"
   ]
  },
  {
   "cell_type": "code",
   "execution_count": 7,
   "metadata": {},
   "outputs": [
    {
     "name": "stdout",
     "output_type": "stream",
     "text": [
      "2\n"
     ]
    }
   ],
   "source": [
    "cols = data.shape[1]\n",
    "print (cols)"
   ]
  },
  {
   "cell_type": "code",
   "execution_count": 8,
   "metadata": {},
   "outputs": [
    {
     "data": {
      "text/html": [
       "<div>\n",
       "<style scoped>\n",
       "    .dataframe tbody tr th:only-of-type {\n",
       "        vertical-align: middle;\n",
       "    }\n",
       "\n",
       "    .dataframe tbody tr th {\n",
       "        vertical-align: top;\n",
       "    }\n",
       "\n",
       "    .dataframe thead th {\n",
       "        text-align: right;\n",
       "    }\n",
       "</style>\n",
       "<table border=\"1\" class=\"dataframe\">\n",
       "  <thead>\n",
       "    <tr style=\"text-align: right;\">\n",
       "      <th></th>\n",
       "      <th>Ones</th>\n",
       "      <th>Size</th>\n",
       "      <th>Price</th>\n",
       "    </tr>\n",
       "  </thead>\n",
       "  <tbody>\n",
       "    <tr>\n",
       "      <th>0</th>\n",
       "      <td>1</td>\n",
       "      <td>-0.182399</td>\n",
       "      <td>-0.169891</td>\n",
       "    </tr>\n",
       "    <tr>\n",
       "      <th>1</th>\n",
       "      <td>1</td>\n",
       "      <td>-0.181840</td>\n",
       "      <td>-0.169891</td>\n",
       "    </tr>\n",
       "    <tr>\n",
       "      <th>2</th>\n",
       "      <td>1</td>\n",
       "      <td>-0.180786</td>\n",
       "      <td>-0.167394</td>\n",
       "    </tr>\n",
       "    <tr>\n",
       "      <th>3</th>\n",
       "      <td>1</td>\n",
       "      <td>-0.180507</td>\n",
       "      <td>-0.167394</td>\n",
       "    </tr>\n",
       "    <tr>\n",
       "      <th>4</th>\n",
       "      <td>1</td>\n",
       "      <td>-0.179878</td>\n",
       "      <td>-0.166145</td>\n",
       "    </tr>\n",
       "  </tbody>\n",
       "</table>\n",
       "</div>"
      ],
      "text/plain": [
       "   Ones      Size     Price\n",
       "0     1 -0.182399 -0.169891\n",
       "1     1 -0.181840 -0.169891\n",
       "2     1 -0.180786 -0.167394\n",
       "3     1 -0.180507 -0.167394\n",
       "4     1 -0.179878 -0.166145"
      ]
     },
     "execution_count": 8,
     "metadata": {},
     "output_type": "execute_result"
    }
   ],
   "source": [
    "###Inserting ones\n",
    "data.insert(0, 'Ones', 1)\n",
    "data.head()"
   ]
  },
  {
   "cell_type": "code",
   "execution_count": 9,
   "metadata": {},
   "outputs": [
    {
     "name": "stdout",
     "output_type": "stream",
     "text": [
      "3\n"
     ]
    }
   ],
   "source": [
    "cols = data.shape[1]\n",
    "print (cols)"
   ]
  },
  {
   "cell_type": "code",
   "execution_count": 10,
   "metadata": {},
   "outputs": [],
   "source": [
    "x = data.iloc[:,0:cols-1]\n",
    "y=data.iloc[:, cols-1:cols]"
   ]
  },
  {
   "cell_type": "code",
   "execution_count": 11,
   "metadata": {},
   "outputs": [],
   "source": [
    "x=np.matrix(x)\n",
    "y=np.matrix(y)\n",
    "theta=np.matrix(np.array([0,0]))"
   ]
  },
  {
   "cell_type": "code",
   "execution_count": 12,
   "metadata": {},
   "outputs": [
    {
     "data": {
      "text/plain": [
       "((97, 2), (1, 2), (97, 1))"
      ]
     },
     "execution_count": 12,
     "metadata": {},
     "output_type": "execute_result"
    }
   ],
   "source": [
    "x.shape,theta.shape, y.shape"
   ]
  },
  {
   "cell_type": "code",
   "execution_count": 13,
   "metadata": {},
   "outputs": [],
   "source": [
    "###Calculating Error\n",
    "def computeError(x,y,theta):\n",
    "    inner = np.power(((x*theta.T)-y),2)\n",
    "    return np.sum(inner)/(2*len(x))"
   ]
  },
  {
   "cell_type": "code",
   "execution_count": 14,
   "metadata": {},
   "outputs": [
    {
     "data": {
      "text/plain": [
       "0.024346853685025278"
      ]
     },
     "execution_count": 14,
     "metadata": {},
     "output_type": "execute_result"
    }
   ],
   "source": [
    "computeError(x,y,theta)"
   ]
  },
  {
   "cell_type": "code",
   "execution_count": 15,
   "metadata": {},
   "outputs": [],
   "source": [
    "###Gradient Descent\n",
    "Learn_rate = 1\n",
    "iters = 150\n",
    "def gradientDescent(x,y,theta,Learn_rate, iters):\n",
    "    temp = np.matrix(np.zeros(theta.shape))\n",
    "    parameters = int (theta.ravel().shape[1])\n",
    "    cost = np.zeros(iters)\n",
    "    \n",
    "    for i in range(iters):\n",
    "        error = (x*theta.T)-y\n",
    "    \n",
    "        for j in range (parameters):\n",
    "            term = np.multiply(error, x[:,j])\n",
    "            temp[0,j] = theta[0,j]-((Learn_rate/len(x))*np.sum(term))\n",
    "        \n",
    "        theta=temp\n",
    "        cost[i] = computeError(x,y,theta)\n",
    "    \n",
    "    return theta, cost\n",
    "                "
   ]
  },
  {
   "cell_type": "code",
   "execution_count": 16,
   "metadata": {},
   "outputs": [
    {
     "name": "stdout",
     "output_type": "stream",
     "text": [
      "[[-9.65364673e-17  9.82955251e-01]] [2.19673183e-02 1.98208708e-02 1.78846789e-02 1.61381471e-02\n",
      " 1.45626971e-02 1.31415706e-02 1.18596508e-02 1.07033016e-02\n",
      " 9.66022291e-03 8.71931915e-03 7.87058178e-03 7.10498263e-03\n",
      " 6.41437789e-03 5.79142147e-03 5.22948685e-03 4.72259664e-03\n",
      " 4.26535895e-03 3.85291006e-03 3.48086268e-03 3.14525926e-03\n",
      " 2.84252994e-03 2.56945453e-03 2.32312827e-03 2.10093094e-03\n",
      " 1.90049899e-03 1.71970039e-03 1.55661194e-03 1.40949886e-03\n",
      " 1.27679627e-03 1.15709258e-03 1.04911449e-03 9.51713408e-04\n",
      " 8.63853270e-04 7.84599488e-04 7.13109024e-04 6.48621422e-04\n",
      " 5.90450714e-04 5.37978129e-04 4.90645505e-04 4.47949357e-04\n",
      " 4.09435518e-04 3.74694309e-04 3.43356182e-04 3.15087786e-04\n",
      " 2.89588427e-04 2.66586861e-04 2.45838419e-04 2.27122393e-04\n",
      " 2.10239700e-04 1.95010753e-04 1.81273561e-04 1.68881998e-04\n",
      " 1.57704253e-04 1.47621426e-04 1.38526264e-04 1.30322020e-04\n",
      " 1.22921424e-04 1.16245755e-04 1.10224003e-04 1.04792112e-04\n",
      " 9.98923035e-05 9.54724563e-05 9.14855561e-05 8.78891934e-05\n",
      " 8.46451130e-05 8.17188072e-05 7.90791481e-05 7.66980574e-05\n",
      " 7.45502068e-05 7.26127493e-05 7.08650758e-05 6.92885960e-05\n",
      " 6.78665406e-05 6.65837828e-05 6.54266778e-05 6.43829173e-05\n",
      " 6.34413985e-05 6.25921063e-05 6.18260067e-05 6.11349506e-05\n",
      " 6.05115869e-05 5.99492850e-05 5.94420635e-05 5.89845269e-05\n",
      " 5.85718084e-05 5.81995178e-05 5.78636950e-05 5.75607678e-05\n",
      " 5.72875139e-05 5.70410267e-05 5.68186841e-05 5.66181211e-05\n",
      " 5.64372043e-05 5.62740093e-05 5.61268000e-05 5.59940107e-05\n",
      " 5.58742288e-05 5.57661801e-05 5.56687154e-05 5.55807978e-05\n",
      " 5.55014922e-05 5.54299550e-05 5.53654252e-05 5.53072165e-05\n",
      " 5.52547096e-05 5.52073461e-05 5.51646220e-05 5.51260830e-05\n",
      " 5.50913191e-05 5.50599605e-05 5.50316736e-05 5.50061576e-05\n",
      " 5.49831410e-05 5.49623790e-05 5.49436507e-05 5.49267570e-05\n",
      " 5.49115181e-05 5.48977719e-05 5.48853722e-05 5.48741872e-05\n",
      " 5.48640978e-05 5.48549967e-05 5.48467871e-05 5.48393816e-05\n",
      " 5.48327016e-05 5.48266759e-05 5.48212405e-05 5.48163374e-05\n",
      " 5.48119147e-05 5.48079252e-05 5.48043265e-05 5.48010803e-05\n",
      " 5.47981521e-05 5.47955107e-05 5.47931280e-05 5.47909788e-05\n",
      " 5.47890401e-05 5.47872912e-05 5.47857137e-05 5.47842907e-05\n",
      " 5.47830072e-05 5.47818493e-05 5.47808048e-05 5.47798627e-05\n",
      " 5.47790129e-05 5.47782463e-05 5.47775548e-05 5.47769310e-05\n",
      " 5.47763683e-05 5.47758608e-05]\n"
     ]
    }
   ],
   "source": [
    "g, cost = gradientDescent (x,y,theta,Learn_rate,iters)\n",
    "print(g,cost)\n",
    "        "
   ]
  },
  {
   "cell_type": "code",
   "execution_count": 17,
   "metadata": {},
   "outputs": [
    {
     "name": "stdout",
     "output_type": "stream",
     "text": [
      "[[-9.65364673e-17  9.82955251e-01]] [2.19673183e-02 1.98208708e-02 1.78846789e-02 1.61381471e-02\n",
      " 1.45626971e-02 1.31415706e-02 1.18596508e-02 1.07033016e-02\n",
      " 9.66022291e-03 8.71931915e-03 7.87058178e-03 7.10498263e-03\n",
      " 6.41437789e-03 5.79142147e-03 5.22948685e-03 4.72259664e-03\n",
      " 4.26535895e-03 3.85291006e-03 3.48086268e-03 3.14525926e-03\n",
      " 2.84252994e-03 2.56945453e-03 2.32312827e-03 2.10093094e-03\n",
      " 1.90049899e-03 1.71970039e-03 1.55661194e-03 1.40949886e-03\n",
      " 1.27679627e-03 1.15709258e-03 1.04911449e-03 9.51713408e-04\n",
      " 8.63853270e-04 7.84599488e-04 7.13109024e-04 6.48621422e-04\n",
      " 5.90450714e-04 5.37978129e-04 4.90645505e-04 4.47949357e-04\n",
      " 4.09435518e-04 3.74694309e-04 3.43356182e-04 3.15087786e-04\n",
      " 2.89588427e-04 2.66586861e-04 2.45838419e-04 2.27122393e-04\n",
      " 2.10239700e-04 1.95010753e-04 1.81273561e-04 1.68881998e-04\n",
      " 1.57704253e-04 1.47621426e-04 1.38526264e-04 1.30322020e-04\n",
      " 1.22921424e-04 1.16245755e-04 1.10224003e-04 1.04792112e-04\n",
      " 9.98923035e-05 9.54724563e-05 9.14855561e-05 8.78891934e-05\n",
      " 8.46451130e-05 8.17188072e-05 7.90791481e-05 7.66980574e-05\n",
      " 7.45502068e-05 7.26127493e-05 7.08650758e-05 6.92885960e-05\n",
      " 6.78665406e-05 6.65837828e-05 6.54266778e-05 6.43829173e-05\n",
      " 6.34413985e-05 6.25921063e-05 6.18260067e-05 6.11349506e-05\n",
      " 6.05115869e-05 5.99492850e-05 5.94420635e-05 5.89845269e-05\n",
      " 5.85718084e-05 5.81995178e-05 5.78636950e-05 5.75607678e-05\n",
      " 5.72875139e-05 5.70410267e-05 5.68186841e-05 5.66181211e-05\n",
      " 5.64372043e-05 5.62740093e-05 5.61268000e-05 5.59940107e-05\n",
      " 5.58742288e-05 5.57661801e-05 5.56687154e-05 5.55807978e-05\n",
      " 5.55014922e-05 5.54299550e-05 5.53654252e-05 5.53072165e-05\n",
      " 5.52547096e-05 5.52073461e-05 5.51646220e-05 5.51260830e-05\n",
      " 5.50913191e-05 5.50599605e-05 5.50316736e-05 5.50061576e-05\n",
      " 5.49831410e-05 5.49623790e-05 5.49436507e-05 5.49267570e-05\n",
      " 5.49115181e-05 5.48977719e-05 5.48853722e-05 5.48741872e-05\n",
      " 5.48640978e-05 5.48549967e-05 5.48467871e-05 5.48393816e-05\n",
      " 5.48327016e-05 5.48266759e-05 5.48212405e-05 5.48163374e-05\n",
      " 5.48119147e-05 5.48079252e-05 5.48043265e-05 5.48010803e-05\n",
      " 5.47981521e-05 5.47955107e-05 5.47931280e-05 5.47909788e-05\n",
      " 5.47890401e-05 5.47872912e-05 5.47857137e-05 5.47842907e-05\n",
      " 5.47830072e-05 5.47818493e-05 5.47808048e-05 5.47798627e-05\n",
      " 5.47790129e-05 5.47782463e-05 5.47775548e-05 5.47769310e-05\n",
      " 5.47763683e-05 5.47758608e-05]\n"
     ]
    }
   ],
   "source": [
    "new_theta,cost = gradientDescent(x,y,theta,Learn_rate,iters)\n",
    "print(new_theta,cost)"
   ]
  },
  {
   "cell_type": "code",
   "execution_count": 18,
   "metadata": {},
   "outputs": [
    {
     "data": {
      "text/plain": [
       "5.477586076298723e-05"
      ]
     },
     "execution_count": 18,
     "metadata": {},
     "output_type": "execute_result"
    }
   ],
   "source": [
    "computeError(x,y,new_theta)"
   ]
  },
  {
   "cell_type": "code",
   "execution_count": 19,
   "metadata": {},
   "outputs": [
    {
     "name": "stdout",
     "output_type": "stream",
     "text": [
      "0    -0.182399\n",
      "1    -0.181840\n",
      "2    -0.180786\n",
      "3    -0.180507\n",
      "4    -0.179878\n",
      "5    -0.177695\n",
      "6    -0.176390\n",
      "7    -0.173526\n",
      "8    -0.172996\n",
      "9    -0.169270\n",
      "10   -0.166184\n",
      "11   -0.166051\n",
      "12   -0.161876\n",
      "13   -0.160275\n",
      "14   -0.158528\n",
      "15   -0.155431\n",
      "16   -0.154890\n",
      "17   -0.153667\n",
      "18   -0.153242\n",
      "19   -0.152433\n",
      "20   -0.151076\n",
      "21   -0.148666\n",
      "22   -0.146721\n",
      "23   -0.146663\n",
      "24   -0.142762\n",
      "25   -0.142588\n",
      "26   -0.141511\n",
      "27   -0.141231\n",
      "28   -0.138920\n",
      "29   -0.137307\n",
      "        ...   \n",
      "67    0.007877\n",
      "68    0.012989\n",
      "69    0.014474\n",
      "70    0.020808\n",
      "71    0.020889\n",
      "72    0.024354\n",
      "73    0.038752\n",
      "74    0.059408\n",
      "75    0.063367\n",
      "76    0.066977\n",
      "77    0.075326\n",
      "78    0.093671\n",
      "79    0.115055\n",
      "80    0.120877\n",
      "81    0.123090\n",
      "82    0.162854\n",
      "83    0.206112\n",
      "84    0.206578\n",
      "85    0.271785\n",
      "86    0.272250\n",
      "87    0.292045\n",
      "88    0.304737\n",
      "89    0.349567\n",
      "90    0.392883\n",
      "91    0.627919\n",
      "92    0.628734\n",
      "93    0.705061\n",
      "94    0.709195\n",
      "95    0.763806\n",
      "96    0.817601\n",
      "Name: Size, Length: 97, dtype: float64\n"
     ]
    }
   ],
   "source": [
    "x=data.Size\n",
    "print(x)"
   ]
  },
  {
   "cell_type": "code",
   "execution_count": 20,
   "metadata": {},
   "outputs": [],
   "source": [
    "Model_price = new_theta[0,0] + (new_theta[0,1]*x)"
   ]
  },
  {
   "cell_type": "code",
   "execution_count": 21,
   "metadata": {},
   "outputs": [
    {
     "data": {
      "text/plain": [
       "Text(0.5,1,'Predicted Price vs. Size')"
      ]
     },
     "execution_count": 21,
     "metadata": {},
     "output_type": "execute_result"
    },
    {
     "data": {
      "image/png": "[encoded data removed]",
      "text/plain": [
       "<Figure size 864x576 with 1 Axes>"
      ]
     },
     "metadata": {},
     "output_type": "display_data"
    }
   ],
   "source": [
    "fig, ax= plt.subplots(figsize =(12,8))\n",
    "ax.plot(x,Model_price,'r', label='Prediction')\n",
    "ax.scatter(data.Size, data.Price, label='Training Data')\n",
    "ax.legend(loc=2)\n",
    "ax.set_xlabel('Size')\n",
    "ax.set_ylabel('Price')\n",
    "ax.set_title('Predicted Price vs. Size')"
   ]
  },
  {
   "cell_type": "code",
   "execution_count": 22,
   "metadata": {},
   "outputs": [
    {
     "data": {
      "text/plain": [
       "Text(0.5,1,'Error vs. Iterations')"
      ]
     },
     "execution_count": 22,
     "metadata": {},
     "output_type": "execute_result"
    },
    {
     "data": {
      "image/png": "[encoded data removed]",
      "text/plain": [
       "<Figure size 864x576 with 1 Axes>"
      ]
     },
     "metadata": {},
     "output_type": "display_data"
    }
   ],
   "source": [
    "fig, ax = plt.subplots (figsize = (12,8))\n",
    "ax.plot(np.arange(iters), cost,'r')\n",
    "ax.set_xlabel('Iterations')\n",
    "ax.set_ylabel('Cost')\n",
    "ax.set_title('Error vs. Iterations')"
   ]
  },
  {
   "cell_type": "code",
   "execution_count": 23,
   "metadata": {},
   "outputs": [
    {
     "name": "stdout",
     "output_type": "stream",
     "text": [
      "error%= 0.005477586076298723\n",
      "accuracy%= 99.9945224139237\n"
     ]
    }
   ],
   "source": [
    "###Accuracy Calculation\n",
    "import math\n",
    "erro_r = [np.power((b-a),2) for (a,b) in zip (Model_price,y)]\n",
    "error0 = np.sum(erro_r)\n",
    "error =  (error0/(2*len(y)))*100\n",
    "print(\"error%= {}\".format(error))\n",
    "accuracy = 100 - error\n",
    "print(\"accuracy%= {}\".format(accuracy))\n",
    "          "
   ]
  },
  {
   "cell_type": "code",
   "execution_count": 1,
   "metadata": {},
   "outputs": [
    {
     "ename": "NameError",
     "evalue": "name 'new_theta' is not defined",
     "output_type": "error",
     "traceback": [
      "\u001b[1;31m---------------------------------------------------------------------------\u001b[0m",
      "\u001b[1;31mNameError\u001b[0m                                 Traceback (most recent call last)",
      "\u001b[1;32m<ipython-input-1-4689529bf062>\u001b[0m in \u001b[0;36m<module>\u001b[1;34m\u001b[0m\n\u001b[0;32m     11\u001b[0m     \u001b[1;32mreturn\u001b[0m \u001b[0mPredicted_Price\u001b[0m\u001b[1;33m,\u001b[0m \u001b[0mPrice_range\u001b[0m\u001b[1;33m\u001b[0m\u001b[1;33m\u001b[0m\u001b[0m\n\u001b[0;32m     12\u001b[0m \u001b[1;33m\u001b[0m\u001b[0m\n\u001b[1;32m---> 13\u001b[1;33m \u001b[0mPredicted_Price\u001b[0m\u001b[1;33m,\u001b[0m \u001b[0mPrice_range\u001b[0m \u001b[1;33m=\u001b[0m \u001b[0mpredict\u001b[0m\u001b[1;33m(\u001b[0m\u001b[0mnew_theta\u001b[0m\u001b[1;33m,\u001b[0m \u001b[0maccuracy\u001b[0m\u001b[1;33m)\u001b[0m\u001b[1;33m\u001b[0m\u001b[1;33m\u001b[0m\u001b[0m\n\u001b[0m\u001b[0;32m     14\u001b[0m \u001b[0mprint\u001b[0m\u001b[1;33m(\u001b[0m\u001b[1;34m'Your house cost is '\u001b[0m\u001b[1;33m+\u001b[0m \u001b[0mstr\u001b[0m\u001b[1;33m(\u001b[0m\u001b[0mPredicted_Price\u001b[0m\u001b[1;33m)\u001b[0m\u001b[1;33m+\u001b[0m\u001b[1;34m' Lakhs'\u001b[0m \u001b[1;33m+\u001b[0m\u001b[1;34m'(+ or -)'\u001b[0m \u001b[1;33m+\u001b[0m \u001b[0mstr\u001b[0m\u001b[1;33m(\u001b[0m\u001b[0mPrice_range\u001b[0m\u001b[1;33m)\u001b[0m \u001b[1;33m+\u001b[0m \u001b[1;34m'Lakhs'\u001b[0m\u001b[1;33m)\u001b[0m\u001b[1;33m\u001b[0m\u001b[1;33m\u001b[0m\u001b[0m\n",
      "\u001b[1;31mNameError\u001b[0m: name 'new_theta' is not defined"
     ]
    }
   ],
   "source": [
    "###Prediction\n",
    "\n",
    "def predict(new_theta, accuracy):\n",
    "    size = float(input(\"Enter the size of House in sqt :\"))\n",
    "    size = (size-raw_data.Size.mean())/(raw_data.Size.max()-raw_data.Size.min())\n",
    "    price= (new_theta[0,0]+new_theta[0,1]*size)\n",
    "    \n",
    "    Predicted_Price = (price*(raw_data.Price.max()-raw_data.Price.min()))+(raw_data.Price.mean())\n",
    "    Price_at_Max_Accuracy = (Predicted_Price*(1/accuracy)*100)\n",
    "    Price_range = Price_at_Max_Accuracy - Predicted_Price\n",
    "    return Predicted_Price, Price_range\n",
    "\n",
    "Predicted_Price, Price_range = predict(new_theta, accuracy)\n",
    "print('Your house cost is '+ str(Predicted_Price)+' Lakhs' +'(+ or -)' + str(Price_range) + 'Lakhs')"
   ]
  },
  {
   "cell_type": "code",
   "execution_count": null,
   "metadata": {},
   "outputs": [],
   "source": []
  }
 ],
 "metadata": {
  "kernelspec": {
   "display_name": "Python 3",
   "language": "python",
   "name": "python3"
  },
  "language_info": {
   "codemirror_mode": {
    "name": "ipython",
    "version": 3
   },
   "file_extension": ".py",
   "mimetype": "text/x-python",
   "name": "python",
   "nbconvert_exporter": "python",
   "pygments_lexer": "ipython3",
   "version": "3.7.3"
  }
 },
 "nbformat": 4,
 "nbformat_minor": 2
}
